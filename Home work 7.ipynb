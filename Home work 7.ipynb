{
 "cells": [
  {
   "cell_type": "markdown",
   "metadata": {},
   "source": [
    "# Домашнее задание к лекции «Открытие и чтение файла, запись в файл»"
   ]
  },
  {
   "cell_type": "markdown",
   "metadata": {},
   "source": [
    "### Задача №1"
   ]
  },
  {
   "cell_type": "markdown",
   "metadata": {},
   "source": [
    "Необходимо написать программу для кулинарной книги.\n",
    "Список рецептов должен храниться в отдельном файле в следующем формате:\n",
    "Название блюда\n",
    "Количество ингредиентов в блюде\n",
    "Название ингредиента | Количество | Единица измерения\n",
    "Название ингредиента | Количество | Единица измерения"
   ]
  },
  {
   "cell_type": "markdown",
   "metadata": {},
   "source": [
    "**Решение:**"
   ]
  },
  {
   "cell_type": "code",
   "execution_count": 21,
   "metadata": {},
   "outputs": [
    {
     "data": {
      "text/plain": [
       "{'Омлет': [{'ingredient_name': 'Яйцо ', 'quantity': ' 2 ', 'measure': ' шт'},\n",
       "  {'ingredient_name': 'Молоко ', 'quantity': ' 100 ', 'measure': ' мл'},\n",
       "  {'ingredient_name': 'Помидор ', 'quantity': ' 2 ', 'measure': ' шт'}],\n",
       " 'Утка по-пекински': [{'ingredient_name': 'Утка ',\n",
       "   'quantity': ' 1 ',\n",
       "   'measure': ' шт'},\n",
       "  {'ingredient_name': 'Вода ', 'quantity': ' 2 ', 'measure': ' л'},\n",
       "  {'ingredient_name': 'Мед ', 'quantity': ' 3 ', 'measure': ' ст.л'},\n",
       "  {'ingredient_name': 'Соевый соус ', 'quantity': ' 60 ', 'measure': ' мл'}],\n",
       " 'Запеченный картофель': [{'ingredient_name': 'Картофель ',\n",
       "   'quantity': ' 1 ',\n",
       "   'measure': ' кг'},\n",
       "  {'ingredient_name': 'Чеснок ', 'quantity': ' 3 ', 'measure': ' зубч'},\n",
       "  {'ingredient_name': 'Сыр гауда ', 'quantity': ' 100 ', 'measure': ' г'}],\n",
       " 'Фахитос': [{'ingredient_name': 'Говядина ',\n",
       "   'quantity': ' 500 ',\n",
       "   'measure': ' г'},\n",
       "  {'ingredient_name': 'Перец сладкий ', 'quantity': ' 1 ', 'measure': ' шт'},\n",
       "  {'ingredient_name': 'Лаваш ', 'quantity': ' 2 ', 'measure': ' шт'},\n",
       "  {'ingredient_name': 'Винный уксус ', 'quantity': ' 1 ', 'measure': ' ст.л'},\n",
       "  {'ingredient_name': 'Помидор ', 'quantity': ' 2 ', 'measure': ' шт'}]}"
      ]
     },
     "execution_count": 21,
     "metadata": {},
     "output_type": "execute_result"
    }
   ],
   "source": [
    "import pprint\n",
    "\n",
    "cook_book = {}\n",
    "\n",
    "with open('recipes.txt') as file:\n",
    "    for i in file:\n",
    "        name = i.strip()\n",
    "        ingr_count = int(file.readline().strip())\n",
    "        ingr_list = []\n",
    "        for z in range(ingr_count):\n",
    "            ingr = file.readline().strip().split('|')\n",
    "            ingr_list.append({'ingredient_name': ingr[0], 'quantity': ingr[1], 'measure': ingr[2]})\n",
    "        #pprint(ingr_list)\n",
    "        cook_book[name] = ingr_list\n",
    "\n",
    "        file.readline()\n",
    "cook_book"
   ]
  },
  {
   "cell_type": "markdown",
   "metadata": {},
   "source": [
    "### Задача №2"
   ]
  },
  {
   "cell_type": "markdown",
   "metadata": {},
   "source": [
    "Нужно написать функцию, которая на вход принимает список блюд из cook_book и количество персон для кого мы будем готовить"
   ]
  },
  {
   "cell_type": "markdown",
   "metadata": {},
   "source": [
    "get_shop_list_by_dishes(dishes, person_count)"
   ]
  },
  {
   "cell_type": "markdown",
   "metadata": {},
   "source": [
    "На выходе мы должны получить словарь с названием ингредиентов и его количества для блюда. Например, для такого вызова"
   ]
  },
  {
   "cell_type": "markdown",
   "metadata": {},
   "source": [
    "get_shop_list_by_dishes(['Запеченный картофель', 'Омлет'], 2)"
   ]
  },
  {
   "cell_type": "markdown",
   "metadata": {},
   "source": [
    "Должен быть следующий результат:"
   ]
  },
  {
   "cell_type": "code",
   "execution_count": 22,
   "metadata": {},
   "outputs": [],
   "source": [
    "# {\n",
    "#   'Картофель': {'measure': 'кг', 'quantity': 2},\n",
    "#   'Молоко': {'measure': 'мл', 'quantity': 200},\n",
    "#   'Помидор': {'measure': 'шт', 'quantity': 4},\n",
    "#   'Сыр гауда': {'measure': 'г', 'quantity': 200},\n",
    "#   'Яйцо': {'measure': 'шт', 'quantity': 4},\n",
    "#   'Чеснок': {'measure': 'зубч', 'quantity': 6}\n",
    "# }"
   ]
  },
  {
   "cell_type": "markdown",
   "metadata": {},
   "source": [
    "Обратите внимание, что ингредиенты могут повторяться"
   ]
  },
  {
   "cell_type": "markdown",
   "metadata": {},
   "source": [
    "**Решение:**"
   ]
  },
  {
   "cell_type": "code",
   "execution_count": 29,
   "metadata": {},
   "outputs": [],
   "source": [
    "def get_shop_list_by_dishes(dishes, person_count):\n",
    "    void_list = {}\n",
    "    for dish in dishes:\n",
    "        for ingridient in cook_book[dish]:\n",
    "            new_list = ingridient\n",
    "            new_key = new_list[\"ingredient_name\"]\n",
    "            inside = {}\n",
    "            key = void_list.get(new_key)\n",
    "            if key == None:\n",
    "                inside[\"measure\"] = new_list[\"measure\"]\n",
    "                inside[\"quantity\"] = int(new_list[\"quantity\"]) * person_count\n",
    "                void_list[new_key] = inside\n",
    "            else:\n",
    "                void_list[new_key][\"quantity\"] += int(new_list[\"quantity\"]) * person_count\n",
    "\n",
    "    print(void_list)"
   ]
  },
  {
   "cell_type": "code",
   "execution_count": 30,
   "metadata": {},
   "outputs": [
    {
     "name": "stdout",
     "output_type": "stream",
     "text": [
      "{'Яйцо ': {'measure': ' шт', 'quantity': 20}, 'Молоко ': {'measure': ' мл', 'quantity': 1000}, 'Помидор ': {'measure': ' шт', 'quantity': 40}, 'Говядина ': {'measure': ' г', 'quantity': 5000}, 'Перец сладкий ': {'measure': ' шт', 'quantity': 10}, 'Лаваш ': {'measure': ' шт', 'quantity': 20}, 'Винный уксус ': {'measure': ' ст.л', 'quantity': 10}}\n"
     ]
    }
   ],
   "source": [
    "get_shop_list_by_dishes(['Омлет', 'Фахитос'], 10)"
   ]
  },
  {
   "cell_type": "markdown",
   "metadata": {},
   "source": [
    "### Задача №3"
   ]
  },
  {
   "cell_type": "markdown",
   "metadata": {},
   "source": [
    "В папке лежит некоторое количество файлов. Считайте, что их количество и имена вам заранее известны, пример для выполнения домашней работы можно взять \"тут\""
   ]
  },
  {
   "cell_type": "markdown",
   "metadata": {},
   "source": [
    "Необходимо объединить их в один по следующим правилам:\n",
    "\n",
    "1. Содержимое исходных файлов в результирующем файле должно быть отсортировано по количеству строк в них (то есть первым нужно записать файл с наименьшим количеством строк, а последним - с наибольшим)\n",
    "2. Содержимое файла должно предваряться служебной информацией на 2-х строках: имя файла и количество строк в нем"
   ]
  },
  {
   "cell_type": "markdown",
   "metadata": {},
   "source": [
    "Пример Даны файлы:"
   ]
  },
  {
   "cell_type": "markdown",
   "metadata": {},
   "source": [
    "1.txt"
   ]
  },
  {
   "cell_type": "code",
   "execution_count": 15,
   "metadata": {},
   "outputs": [],
   "source": [
    "# Строка номер 1 файла номер 1\n",
    "# Строка номер 2 файла номер 1"
   ]
  },
  {
   "cell_type": "markdown",
   "metadata": {},
   "source": [
    "2.txt"
   ]
  },
  {
   "cell_type": "code",
   "execution_count": 16,
   "metadata": {},
   "outputs": [],
   "source": [
    "# Строка номер 1 файла номер 2"
   ]
  },
  {
   "cell_type": "markdown",
   "metadata": {},
   "source": [
    "Итоговый файл:"
   ]
  },
  {
   "cell_type": "code",
   "execution_count": 17,
   "metadata": {},
   "outputs": [],
   "source": [
    "# 2.txt\n",
    "# 1\n",
    "# Строка номер 1 файла номер 2\n",
    "# 1.txt\n",
    "# 2\n",
    "# Строка номер 1 файла номер 1\n",
    "# Строка номер 2 файла номер 1"
   ]
  },
  {
   "cell_type": "markdown",
   "metadata": {},
   "source": [
    "**Решение:**"
   ]
  },
  {
   "cell_type": "code",
   "execution_count": 18,
   "metadata": {},
   "outputs": [
    {
     "name": "stdout",
     "output_type": "stream",
     "text": [
      "/home/dmitry/Документы/Homework 6 task 1-2/All.txt\n",
      "2.txt\n",
      "1\n",
      "Тревога началась в тринадцать часов ноль две минуты. \n",
      "\n",
      "1.txt\n",
      "8\n",
      "Начальник  полиции\n",
      "лично позвонил в шестнадцатый участок. А спустя  одну минуту тридцать секунд\n",
      "в дежурке и других комнатах нижнего этажа раздались звонки\n",
      "     Когда Иенсен  --  комиссар  шестнадцатого  участка --  вышел  из своего\n",
      "кабинета,  звонки еще  не смолкли. Иенсен был мужчина средних лет,  обычного\n",
      "сложения, с лицом плоским и невыразительным. На последней ступеньке винтовой\n",
      "лестницы  он задержался  и  обвел взглядом помещение дежурки. Затем поправил\n",
      "галстук и проследовал к машине.\n",
      "\n",
      "3.txt\n",
      "9\n",
      "     В  это время  дня  машины текли сплошным  блестящим  потоком,  а  среди\n",
      "потока, будто  колонны из бетона  и стекла, высились  здания. Здесь,  в мире\n",
      "резких граней,  люди  на тротуарах  выглядели  несчастными и  неприкаянными.\n",
      "Одеты они были хорошо, но как-то удивительно походили друг на друга и все до\n",
      "одного спешили. Они шли нестройными  вереницами, широко разливались, завидев\n",
      "красный  светофор или  металлический  блеск кафе-автоматов.  Они непрестанно\n",
      "озирались по сторонам и теребили портфели и сумочки.\n",
      "     Полицейские  машины  с  включенными  сиренами  пробивались  сквозь  эту\n",
      "толчею.\n",
      "\n",
      "\n"
     ]
    }
   ],
   "source": [
    "import os\n",
    "\n",
    "\n",
    "list_file = []\n",
    "\n",
    "with open('1.txt', encoding = 'utf-8') as f1:\n",
    "    file_n = f1.name\n",
    "    file_text = f1.readlines()\n",
    "    file_len = len(file_text)\n",
    "    list_file.append([file_n, file_len, ''.join(file_text)])\n",
    "\n",
    "\n",
    "with open('2.txt', encoding='utf-8') as f2:\n",
    "    file_n = f2.name\n",
    "    file_text = f2.readlines()\n",
    "    file_len = len(file_text)\n",
    "    list_file.append([file_n, file_len, ''.join(file_text)])\n",
    "\n",
    "\n",
    "\n",
    "with open('3.txt', encoding = 'utf-8') as f3:\n",
    "    file_n = f3.name\n",
    "    file_text = f3.readlines()\n",
    "    file_len = len(file_text)\n",
    "    list_file.append([file_n, file_len, ''.join(file_text)])\n",
    "\n",
    "\n",
    "def sort_list(list_):\n",
    "    return list_[1]\n",
    "str_=''\n",
    "for elem in list_file:\n",
    "    list_file.sort(key=sort_list)\n",
    "for el in list_file:\n",
    "    el[1]=str(el[1])\n",
    "    str_ += el[0] + '\\n'+el[1] + '\\n'+el[2] + '\\n'\n",
    "\n",
    "file_path = os.path.join(os.getcwd(), 'All.txt')\n",
    "with open(file_path, 'w', encoding = 'utf-8') as f4:\n",
    "     f4.write(str_)\n",
    "        \n",
    "print(file_path)\n",
    "with open(file_path, 'r', encoding = 'utf-8') as f:\n",
    "    print(f.read())"
   ]
  }
 ],
 "metadata": {
  "kernelspec": {
   "display_name": "Python 3",
   "language": "python",
   "name": "python3"
  },
  "language_info": {
   "codemirror_mode": {
    "name": "ipython",
    "version": 3
   },
   "file_extension": ".py",
   "mimetype": "text/x-python",
   "name": "python",
   "nbconvert_exporter": "python",
   "pygments_lexer": "ipython3",
   "version": "3.8.5"
  }
 },
 "nbformat": 4,
 "nbformat_minor": 4
}
